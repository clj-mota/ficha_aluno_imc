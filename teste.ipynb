{
 "cells": [
  {
   "cell_type": "code",
   "execution_count": 4,
   "metadata": {},
   "outputs": [],
   "source": [
    "nome = input(\"Digite o nome do aluno(a): \")\n",
    "idade = input(\"Digite a idade do aluno(a): \")\n",
    "peso = input(\"Digite o peso do aluno(a) (Kg): \")\n",
    "altura = input(\"Digite a altura do aluno(a) (m): \")"
   ]
  },
  {
   "cell_type": "code",
   "execution_count": 5,
   "metadata": {},
   "outputs": [],
   "source": [
    "imc = float(peso) / (float(altura) ** 2)"
   ]
  },
  {
   "cell_type": "code",
   "execution_count": 3,
   "metadata": {},
   "outputs": [],
   "source": [
    "status = \"dentro do peso\"\n",
    "if imc > 25:\n",
    "    status = \"sobrepeso\""
   ]
  },
  {
   "cell_type": "code",
   "execution_count": 7,
   "metadata": {},
   "outputs": [],
   "source": [
    "import pdf_reports"
   ]
  },
  {
   "cell_type": "code",
   "execution_count": 8,
   "metadata": {},
   "outputs": [],
   "source": [
    "dados_aluno = {\n",
    "    \"nome\" : nome,\n",
    "    \"idade\" : idade,\n",
    "    \"peso\" : peso,\n",
    "    \"altura\" : altura,\n",
    "    \"imc\" : round(imc,2),\n",
    "    \"status\" : status\n",
    "}"
   ]
  },
  {
   "cell_type": "code",
   "execution_count": 11,
   "metadata": {},
   "outputs": [],
   "source": [
    "template = pdf_reports.pug_to_html(\"template.pug\", dados=dados_aluno)\n",
    "pdf_reports.write_report(template, \"ficha_aluno.pdf\", use_default_styling=False)"
   ]
  },
  {
   "cell_type": "code",
   "execution_count": null,
   "metadata": {},
   "outputs": [],
   "source": []
  }
 ],
 "metadata": {
  "kernelspec": {
   "display_name": "venv",
   "language": "python",
   "name": "python3"
  },
  "language_info": {
   "codemirror_mode": {
    "name": "ipython",
    "version": 3
   },
   "file_extension": ".py",
   "mimetype": "text/x-python",
   "name": "python",
   "nbconvert_exporter": "python",
   "pygments_lexer": "ipython3",
   "version": "3.11.7"
  }
 },
 "nbformat": 4,
 "nbformat_minor": 2
}
